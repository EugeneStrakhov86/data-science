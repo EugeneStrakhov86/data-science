{
  "nbformat": 4,
  "nbformat_minor": 0,
  "metadata": {
    "colab": {
      "provenance": [],
      "authorship_tag": "ABX9TyOzymQNEzfruCp5dKuuyJT/",
      "include_colab_link": true
    },
    "kernelspec": {
      "name": "python3",
      "display_name": "Python 3"
    },
    "language_info": {
      "name": "python"
    }
  },
  "cells": [
    {
      "cell_type": "markdown",
      "metadata": {
        "id": "view-in-github",
        "colab_type": "text"
      },
      "source": [
        "<a href=\"https://colab.research.google.com/github/EugeneStrakhov86/data-science/blob/master/Getting_started_with_Jupyter_notebook.ipynb\" target=\"_parent\"><img src=\"https://colab.research.google.com/assets/colab-badge.svg\" alt=\"Open In Colab\"/></a>"
      ]
    },
    {
      "cell_type": "markdown",
      "source": [
        "# Jupyter and Markdown\n",
        "\n",
        "## Форматирование текста\n",
        "\n",
        "Мы **можем** _форматировать_ текст.\n",
        "\n",
        "## Списки\n",
        "\n",
        "Можем создавать списки: нумерованные и маркированные.\n",
        "\n",
        "1. list item\n",
        "2. list item\n",
        "\n",
        "\n",
        "- list item\n",
        "- list item\n",
        "\n",
        "\n",
        "* list item\n",
        "* list item\n",
        "\n",
        "\n",
        "\n",
        "---\n",
        "\n",
        "## Формулы\n",
        "\n",
        "Мы можем писать формулы: $E = mc^2$.\n",
        "\n",
        "$$\n",
        "E = mc^2\n",
        "$$\n",
        "\n",
        "## Ссылки\n",
        "\n",
        "Мы можем вставлять ссылки. Например, на [kaggle](https://kaggle.com).\n",
        "\n",
        "## Картинки\n",
        "\n",
        "Также можем вставлять картинки:\n",
        "\n",
        "![](https://www.odinschool.com/hs-fs/hubfs/OdinSchool_V3/Blog%20Images/Inside%20Images/64%20a.webp?width=649&height=649&name=64%20a.webp)"
      ],
      "metadata": {
        "id": "N-qM14nF4kEH"
      }
    },
    {
      "cell_type": "code",
      "execution_count": null,
      "metadata": {
        "id": "jhhZ2y8p4Yks"
      },
      "outputs": [],
      "source": []
    }
  ]
}