{
 "cells": [
  {
   "cell_type": "code",
   "execution_count": 1,
   "metadata": {
    "collapsed": false
   },
   "outputs": [
   ],
   "source": [
    "# Подключение библиотек\n",
    "import numpy as np\n",
    "import pandas as pd"
   ]
  },
  {
   "cell_type": "code",
   "execution_count": 2,
   "metadata": {
    "collapsed": false
   },
   "outputs": [
    {
     "data": {
      "text/html": [
       "<div>\n",
       "<style scoped>\n",
       "    .dataframe tbody tr th:only-of-type {\n",
       "        vertical-align: middle;\n",
       "    }\n",
       "\n",
       "    .dataframe tbody tr th {\n",
       "        vertical-align: top;\n",
       "    }\n",
       "\n",
       "    .dataframe thead th {\n",
       "        text-align: right;\n",
       "    }\n",
       "</style>\n",
       "<table border=\"1\" class=\"dataframe\">\n",
       "  <thead>\n",
       "    <tr style=\"text-align: right;\">\n",
       "      <th></th>\n",
       "      <th>ID</th>\n",
       "      <th>MONTH_NUM_FROM_EVENT</th>\n",
       "      <th>F1</th>\n",
       "      <th>F2</th>\n",
       "      <th>F3</th>\n",
       "      <th>F4</th>\n",
       "      <th>F5</th>\n",
       "      <th>F6</th>\n",
       "      <th>F7</th>\n",
       "      <th>F8</th>\n",
       "      <th>...</th>\n",
       "      <th>F38</th>\n",
       "      <th>F39</th>\n",
       "      <th>F40</th>\n",
       "      <th>F41</th>\n",
       "      <th>F42</th>\n",
       "      <th>F43</th>\n",
       "      <th>F44</th>\n",
       "      <th>F45</th>\n",
       "      <th>F46</th>\n",
       "      <th>F47</th>\n",
       "    </tr>\n",
       "  </thead>\n",
       "  <tbody>\n",
       "    <tr>\n",
       "      <th>0</th>\n",
       "      <td>2</td>\n",
       "      <td>1</td>\n",
       "      <td>4.0</td>\n",
       "      <td>133.0</td>\n",
       "      <td>28.0</td>\n",
       "      <td>NaN</td>\n",
       "      <td>0.0</td>\n",
       "      <td>NaN</td>\n",
       "      <td>518.98</td>\n",
       "      <td>2.60</td>\n",
       "      <td>...</td>\n",
       "      <td>89.0</td>\n",
       "      <td>137.0</td>\n",
       "      <td>0.0</td>\n",
       "      <td>2.0</td>\n",
       "      <td>2.0</td>\n",
       "      <td>1.0</td>\n",
       "      <td>0.0</td>\n",
       "      <td>0.0</td>\n",
       "      <td>2.0</td>\n",
       "      <td>958.0</td>\n",
       "    </tr>\n",
       "    <tr>\n",
       "      <th>1</th>\n",
       "      <td>2</td>\n",
       "      <td>2</td>\n",
       "      <td>NaN</td>\n",
       "      <td>132.0</td>\n",
       "      <td>29.0</td>\n",
       "      <td>24.0</td>\n",
       "      <td>0.0</td>\n",
       "      <td>578.35</td>\n",
       "      <td>574.98</td>\n",
       "      <td>2.80</td>\n",
       "      <td>...</td>\n",
       "      <td>141.0</td>\n",
       "      <td>93.0</td>\n",
       "      <td>NaN</td>\n",
       "      <td>2.0</td>\n",
       "      <td>3.0</td>\n",
       "      <td>1.0</td>\n",
       "      <td>0.0</td>\n",
       "      <td>0.0</td>\n",
       "      <td>2.0</td>\n",
       "      <td>936.0</td>\n",
       "    </tr>\n",
       "    <tr>\n",
       "      <th>2</th>\n",
       "      <td>2</td>\n",
       "      <td>3</td>\n",
       "      <td>NaN</td>\n",
       "      <td>131.0</td>\n",
       "      <td>NaN</td>\n",
       "      <td>29.0</td>\n",
       "      <td>0.0</td>\n",
       "      <td>430.13</td>\n",
       "      <td>426.32</td>\n",
       "      <td>0.93</td>\n",
       "      <td>...</td>\n",
       "      <td>128.0</td>\n",
       "      <td>114.0</td>\n",
       "      <td>1.0</td>\n",
       "      <td>3.0</td>\n",
       "      <td>3.0</td>\n",
       "      <td>1.0</td>\n",
       "      <td>0.0</td>\n",
       "      <td>0.0</td>\n",
       "      <td>1.0</td>\n",
       "      <td>919.0</td>\n",
       "    </tr>\n",
       "    <tr>\n",
       "      <th>3</th>\n",
       "      <td>2</td>\n",
       "      <td>4</td>\n",
       "      <td>4.0</td>\n",
       "      <td>130.0</td>\n",
       "      <td>31.0</td>\n",
       "      <td>7.0</td>\n",
       "      <td>NaN</td>\n",
       "      <td>479.33</td>\n",
       "      <td>477.13</td>\n",
       "      <td>0.00</td>\n",
       "      <td>...</td>\n",
       "      <td>3.0</td>\n",
       "      <td>137.0</td>\n",
       "      <td>0.0</td>\n",
       "      <td>3.0</td>\n",
       "      <td>3.0</td>\n",
       "      <td>1.0</td>\n",
       "      <td>0.0</td>\n",
       "      <td>0.0</td>\n",
       "      <td>3.0</td>\n",
       "      <td>618.0</td>\n",
       "    </tr>\n",
       "    <tr>\n",
       "      <th>4</th>\n",
       "      <td>2</td>\n",
       "      <td>5</td>\n",
       "      <td>8.0</td>\n",
       "      <td>129.0</td>\n",
       "      <td>26.0</td>\n",
       "      <td>2.0</td>\n",
       "      <td>0.0</td>\n",
       "      <td>358.12</td>\n",
       "      <td>339.03</td>\n",
       "      <td>15.28</td>\n",
       "      <td>...</td>\n",
       "      <td>2.0</td>\n",
       "      <td>NaN</td>\n",
       "      <td>0.0</td>\n",
       "      <td>4.0</td>\n",
       "      <td>4.0</td>\n",
       "      <td>2.0</td>\n",
       "      <td>NaN</td>\n",
       "      <td>0.0</td>\n",
       "      <td>2.0</td>\n",
       "      <td>NaN</td>\n",
       "    </tr>\n",
       "    <tr>\n",
       "      <th>5</th>\n",
       "      <td>2</td>\n",
       "      <td>6</td>\n",
       "      <td>8.0</td>\n",
       "      <td>128.0</td>\n",
       "      <td>25.0</td>\n",
       "      <td>3.0</td>\n",
       "      <td>0.0</td>\n",
       "      <td>52.33</td>\n",
       "      <td>43.70</td>\n",
       "      <td>7.27</td>\n",
       "      <td>...</td>\n",
       "      <td>5.0</td>\n",
       "      <td>65.0</td>\n",
       "      <td>2.0</td>\n",
       "      <td>5.0</td>\n",
       "      <td>5.0</td>\n",
       "      <td>2.0</td>\n",
       "      <td>0.0</td>\n",
       "      <td>0.0</td>\n",
       "      <td>2.0</td>\n",
       "      <td>682.0</td>\n",
       "    </tr>\n",
       "    <tr>\n",
       "      <th>6</th>\n",
       "      <td>4</td>\n",
       "      <td>1</td>\n",
       "      <td>5.0</td>\n",
       "      <td>139.0</td>\n",
       "      <td>29.0</td>\n",
       "      <td>7.0</td>\n",
       "      <td>0.0</td>\n",
       "      <td>682.90</td>\n",
       "      <td>676.53</td>\n",
       "      <td>3.53</td>\n",
       "      <td>...</td>\n",
       "      <td>NaN</td>\n",
       "      <td>130.0</td>\n",
       "      <td>2.0</td>\n",
       "      <td>2.0</td>\n",
       "      <td>4.0</td>\n",
       "      <td>0.0</td>\n",
       "      <td>2.0</td>\n",
       "      <td>0.0</td>\n",
       "      <td>1.0</td>\n",
       "      <td>866.0</td>\n",
       "    </tr>\n",
       "    <tr>\n",
       "      <th>7</th>\n",
       "      <td>4</td>\n",
       "      <td>2</td>\n",
       "      <td>5.0</td>\n",
       "      <td>138.0</td>\n",
       "      <td>NaN</td>\n",
       "      <td>22.0</td>\n",
       "      <td>0.0</td>\n",
       "      <td>554.98</td>\n",
       "      <td>NaN</td>\n",
       "      <td>6.37</td>\n",
       "      <td>...</td>\n",
       "      <td>67.0</td>\n",
       "      <td>140.0</td>\n",
       "      <td>1.0</td>\n",
       "      <td>1.0</td>\n",
       "      <td>3.0</td>\n",
       "      <td>0.0</td>\n",
       "      <td>2.0</td>\n",
       "      <td>0.0</td>\n",
       "      <td>1.0</td>\n",
       "      <td>2830.0</td>\n",
       "    </tr>\n",
       "    <tr>\n",
       "      <th>8</th>\n",
       "      <td>4</td>\n",
       "      <td>3</td>\n",
       "      <td>5.0</td>\n",
       "      <td>137.0</td>\n",
       "      <td>30.0</td>\n",
       "      <td>28.0</td>\n",
       "      <td>NaN</td>\n",
       "      <td>703.55</td>\n",
       "      <td>694.62</td>\n",
       "      <td>8.20</td>\n",
       "      <td>...</td>\n",
       "      <td>66.0</td>\n",
       "      <td>140.0</td>\n",
       "      <td>1.0</td>\n",
       "      <td>1.0</td>\n",
       "      <td>3.0</td>\n",
       "      <td>0.0</td>\n",
       "      <td>2.0</td>\n",
       "      <td>0.0</td>\n",
       "      <td>2.0</td>\n",
       "      <td>5668.0</td>\n",
       "    </tr>\n",
       "    <tr>\n",
       "      <th>9</th>\n",
       "      <td>4</td>\n",
       "      <td>4</td>\n",
       "      <td>5.0</td>\n",
       "      <td>136.0</td>\n",
       "      <td>29.0</td>\n",
       "      <td>25.0</td>\n",
       "      <td>0.0</td>\n",
       "      <td>586.32</td>\n",
       "      <td>582.13</td>\n",
       "      <td>3.20</td>\n",
       "      <td>...</td>\n",
       "      <td>59.0</td>\n",
       "      <td>140.0</td>\n",
       "      <td>2.0</td>\n",
       "      <td>2.0</td>\n",
       "      <td>4.0</td>\n",
       "      <td>0.0</td>\n",
       "      <td>NaN</td>\n",
       "      <td>0.0</td>\n",
       "      <td>1.0</td>\n",
       "      <td>9681.0</td>\n",
       "    </tr>\n",
       "  </tbody>\n",
       "</table>\n",
       "<p>10 rows × 48 columns</p>\n",
       "</div>"
      ]
     },
     "execution_count": 2,
     "metadata": {
     },
     "output_type": "execute_result"
    }
   ],
   "source": [
    "# Чтение данных из файла\n",
    "df = pd.read_csv('BigDataSchool_features.csv', header=0)\n",
    "df.head(10)"
   ]
  },
  {
   "cell_type": "markdown",
   "metadata": {
    "collapsed": false
   },
   "source": [
    "# Этап предобработки"
   ]
  },
  {
   "cell_type": "code",
   "execution_count": 5,
   "metadata": {
    "collapsed": false
   },
   "outputs": [
    {
     "name": "stdout",
     "output_type": "stream",
     "text": [
      "<class 'pandas.core.frame.DataFrame'>\n",
      "RangeIndex: 103170 entries, 0 to 103169\n",
      "Data columns (total 48 columns):\n",
      "ID                      103170 non-null int64\n",
      "MONTH_NUM_FROM_EVENT    103170 non-null int64\n",
      "F1                      99322 non-null float64\n",
      "F2                      98022 non-null float64\n",
      "F3                      98100 non-null float64\n",
      "F4                      97964 non-null float64\n",
      "F5                      98015 non-null float64\n",
      "F6                      98115 non-null float64\n",
      "F7                      97866 non-null float64\n",
      "F8                      98069 non-null float64\n",
      "F9                      98027 non-null float64\n",
      "F10                     97965 non-null float64\n",
      "F11                     98033 non-null float64\n",
      "F12                     97928 non-null float64\n",
      "F13                     97974 non-null float64\n",
      "F14                     98161 non-null float64\n",
      "F15                     98005 non-null float64\n",
      "F16                     97966 non-null float64\n",
      "F17                     97987 non-null float64\n",
      "F18                     98172 non-null float64\n",
      "F19                     98089 non-null float64\n",
      "F20                     97939 non-null float64\n",
      "F21                     98202 non-null float64\n",
      "F22                     98091 non-null float64\n",
      "F23                     0 non-null float64\n",
      "F24                     98073 non-null float64\n",
      "F26                     98053 non-null float64\n",
      "F27                     98013 non-null float64\n",
      "F28                     97787 non-null float64\n",
      "F29                     98094 non-null float64\n",
      "F30                     98093 non-null float64\n",
      "F31                     98012 non-null float64\n",
      "F32                     98020 non-null float64\n",
      "F33                     33034 non-null float64\n",
      "F34                     33115 non-null float64\n",
      "F35                     85600 non-null float64\n",
      "F36                     85729 non-null float64\n",
      "F37                     87999 non-null float64\n",
      "F38                     88037 non-null float64\n",
      "F39                     82932 non-null float64\n",
      "F40                     82865 non-null float64\n",
      "F41                     83006 non-null float64\n",
      "F42                     82987 non-null float64\n",
      "F43                     78866 non-null float64\n",
      "F44                     78885 non-null float64\n",
      "F45                     78888 non-null float64\n",
      "F46                     81703 non-null float64\n",
      "F47                     81815 non-null float64\n",
      "dtypes: float64(46), int64(2)\n",
      "memory usage: 37.8 MB\n"
     ]
    }
   ],
   "source": [
    "# Узнаем больше о наших данных: тип, количество (не)пропущенных значений\n",
    "df.info()"
   ]
  },
  {
   "cell_type": "code",
   "execution_count": 9,
   "metadata": {
    "collapsed": false
   },
   "outputs": [
   ],
   "source": [
    "# Создаем новый словарь. Будем записывать в него данные в виде \"ключ-значение\". Ключами будут ID абонентов, значениями -- их показатели за все 6 месяцев.\n",
    "new_df = {}\n",
    "# В переменную f сохраним список имен столбцов, которые начинаются с F\n",
    "# df.columns -- список имен ВСЕХ столбцов, из которого мы делаем выборку\n",
    "f = [x for x in df.columns if x.startswith('F')]\n",
    "# Добавляем нужные элементы в словарь. Для этого мы должны перебрать все УНИКАЛЬНЫЕ ключи в столбце ID.\n",
    "# Объединяем 6 строк в одну длинную строку с помощью операции hstack (\"горизонтальный стек\")\n",
    "for id in sorted(df['ID'].unique()):\n",
    "    new_df[id] = np.hstack([row for row in df[df['ID']==id][f].values])"
   ]
  },
  {
   "cell_type": "code",
   "execution_count": 10,
   "metadata": {
    "collapsed": false
   },
   "outputs": [
   ],
   "source": [
    "# Создаем датафрейм из словаря.\n",
    "# В списке numbers будут храниться НОМЕРА всех признаков F_* (чтобы избежать \"проблемы\" с пропущенными признаками типа F25).\n",
    "# orient='index' означает, что датафрейм создаётся по строкам: один элемент словаря = одна строка\n",
    "# В параметре columns мы должны задать имена ВСЕХ 47*6=282 признаков в виде: F<НОМЕР>_<МЕСЯЦ>\n",
    "numbers = [int(x[1:]) for x in df.columns[2:]]\n",
    "new_df = pd.DataFrame.from_dict(new_df, \n",
    "                                orient='index',\n",
    "                                columns=['F'+str(i)+'_'+str(j+1) \n",
    "                                         for j in range(6) for i in numbers])"
   ]
  },
  {
   "cell_type": "code",
   "execution_count": 11,
   "metadata": {
    "collapsed": false
   },
   "outputs": [
    {
     "data": {
      "text/html": [
       "<div>\n",
       "<style scoped>\n",
       "    .dataframe tbody tr th:only-of-type {\n",
       "        vertical-align: middle;\n",
       "    }\n",
       "\n",
       "    .dataframe tbody tr th {\n",
       "        vertical-align: top;\n",
       "    }\n",
       "\n",
       "    .dataframe thead th {\n",
       "        text-align: right;\n",
       "    }\n",
       "</style>\n",
       "<table border=\"1\" class=\"dataframe\">\n",
       "  <thead>\n",
       "    <tr style=\"text-align: right;\">\n",
       "      <th></th>\n",
       "      <th>F1_1</th>\n",
       "      <th>F2_1</th>\n",
       "      <th>F3_1</th>\n",
       "      <th>F4_1</th>\n",
       "      <th>F5_1</th>\n",
       "      <th>F6_1</th>\n",
       "      <th>F7_1</th>\n",
       "      <th>F8_1</th>\n",
       "      <th>F9_1</th>\n",
       "      <th>F10_1</th>\n",
       "      <th>...</th>\n",
       "      <th>F38_6</th>\n",
       "      <th>F39_6</th>\n",
       "      <th>F40_6</th>\n",
       "      <th>F41_6</th>\n",
       "      <th>F42_6</th>\n",
       "      <th>F43_6</th>\n",
       "      <th>F44_6</th>\n",
       "      <th>F45_6</th>\n",
       "      <th>F46_6</th>\n",
       "      <th>F47_6</th>\n",
       "    </tr>\n",
       "  </thead>\n",
       "  <tbody>\n",
       "    <tr>\n",
       "      <th>1</th>\n",
       "      <td>9.0</td>\n",
       "      <td>142.0</td>\n",
       "      <td>29.0</td>\n",
       "      <td>0.0</td>\n",
       "      <td>0.0</td>\n",
       "      <td>67.13</td>\n",
       "      <td>38.87</td>\n",
       "      <td>NaN</td>\n",
       "      <td>65.53</td>\n",
       "      <td>37.10</td>\n",
       "      <td>...</td>\n",
       "      <td>61.0</td>\n",
       "      <td>135.0</td>\n",
       "      <td>0.0</td>\n",
       "      <td>2.0</td>\n",
       "      <td>2.0</td>\n",
       "      <td>0.0</td>\n",
       "      <td>1.0</td>\n",
       "      <td>0.0</td>\n",
       "      <td>1.0</td>\n",
       "      <td>337.0</td>\n",
       "    </tr>\n",
       "    <tr>\n",
       "      <th>2</th>\n",
       "      <td>4.0</td>\n",
       "      <td>133.0</td>\n",
       "      <td>28.0</td>\n",
       "      <td>NaN</td>\n",
       "      <td>0.0</td>\n",
       "      <td>NaN</td>\n",
       "      <td>518.98</td>\n",
       "      <td>2.60</td>\n",
       "      <td>151.33</td>\n",
       "      <td>142.32</td>\n",
       "      <td>...</td>\n",
       "      <td>5.0</td>\n",
       "      <td>65.0</td>\n",
       "      <td>2.0</td>\n",
       "      <td>5.0</td>\n",
       "      <td>5.0</td>\n",
       "      <td>2.0</td>\n",
       "      <td>0.0</td>\n",
       "      <td>0.0</td>\n",
       "      <td>2.0</td>\n",
       "      <td>682.0</td>\n",
       "    </tr>\n",
       "    <tr>\n",
       "      <th>3</th>\n",
       "      <td>5.0</td>\n",
       "      <td>40.0</td>\n",
       "      <td>31.0</td>\n",
       "      <td>3.0</td>\n",
       "      <td>0.0</td>\n",
       "      <td>NaN</td>\n",
       "      <td>770.45</td>\n",
       "      <td>3.78</td>\n",
       "      <td>645.33</td>\n",
       "      <td>645.20</td>\n",
       "      <td>...</td>\n",
       "      <td>76.0</td>\n",
       "      <td>NaN</td>\n",
       "      <td>0.0</td>\n",
       "      <td>0.0</td>\n",
       "      <td>0.0</td>\n",
       "      <td>0.0</td>\n",
       "      <td>1.0</td>\n",
       "      <td>0.0</td>\n",
       "      <td>1.0</td>\n",
       "      <td>1130.0</td>\n",
       "    </tr>\n",
       "    <tr>\n",
       "      <th>4</th>\n",
       "      <td>5.0</td>\n",
       "      <td>139.0</td>\n",
       "      <td>29.0</td>\n",
       "      <td>7.0</td>\n",
       "      <td>0.0</td>\n",
       "      <td>682.90</td>\n",
       "      <td>676.53</td>\n",
       "      <td>3.53</td>\n",
       "      <td>591.27</td>\n",
       "      <td>585.22</td>\n",
       "      <td>...</td>\n",
       "      <td>62.0</td>\n",
       "      <td>115.0</td>\n",
       "      <td>0.0</td>\n",
       "      <td>0.0</td>\n",
       "      <td>2.0</td>\n",
       "      <td>0.0</td>\n",
       "      <td>2.0</td>\n",
       "      <td>0.0</td>\n",
       "      <td>1.0</td>\n",
       "      <td>4167.0</td>\n",
       "    </tr>\n",
       "    <tr>\n",
       "      <th>5</th>\n",
       "      <td>20.0</td>\n",
       "      <td>19.0</td>\n",
       "      <td>22.0</td>\n",
       "      <td>0.0</td>\n",
       "      <td>1.0</td>\n",
       "      <td>137.98</td>\n",
       "      <td>55.78</td>\n",
       "      <td>36.03</td>\n",
       "      <td>115.33</td>\n",
       "      <td>28.90</td>\n",
       "      <td>...</td>\n",
       "      <td>5.0</td>\n",
       "      <td>137.0</td>\n",
       "      <td>1.0</td>\n",
       "      <td>1.0</td>\n",
       "      <td>1.0</td>\n",
       "      <td>2.0</td>\n",
       "      <td>NaN</td>\n",
       "      <td>NaN</td>\n",
       "      <td>1.0</td>\n",
       "      <td>193.0</td>\n",
       "    </tr>\n",
       "  </tbody>\n",
       "</table>\n",
       "<p>5 rows × 270 columns</p>\n",
       "</div>"
      ]
     },
     "execution_count": 11,
     "metadata": {
     },
     "output_type": "execute_result"
    }
   ],
   "source": [
    "# Проверим, всё ли правильно получилось.\n",
    "new_df.head()"
   ]
  },
  {
   "cell_type": "code",
   "execution_count": 12,
   "metadata": {
    "collapsed": false
   },
   "outputs": [
    {
     "data": {
      "text/html": [
       "<div>\n",
       "<style scoped>\n",
       "    .dataframe tbody tr th:only-of-type {\n",
       "        vertical-align: middle;\n",
       "    }\n",
       "\n",
       "    .dataframe tbody tr th {\n",
       "        vertical-align: top;\n",
       "    }\n",
       "\n",
       "    .dataframe thead th {\n",
       "        text-align: right;\n",
       "    }\n",
       "</style>\n",
       "<table border=\"1\" class=\"dataframe\">\n",
       "  <thead>\n",
       "    <tr style=\"text-align: right;\">\n",
       "      <th></th>\n",
       "      <th>TARGET</th>\n",
       "    </tr>\n",
       "    <tr>\n",
       "      <th>ID</th>\n",
       "      <th></th>\n",
       "    </tr>\n",
       "  </thead>\n",
       "  <tbody>\n",
       "    <tr>\n",
       "      <th>2</th>\n",
       "      <td>0.0</td>\n",
       "    </tr>\n",
       "    <tr>\n",
       "      <th>4</th>\n",
       "      <td>0.0</td>\n",
       "    </tr>\n",
       "    <tr>\n",
       "      <th>5</th>\n",
       "      <td>0.0</td>\n",
       "    </tr>\n",
       "    <tr>\n",
       "      <th>8</th>\n",
       "      <td>0.0</td>\n",
       "    </tr>\n",
       "    <tr>\n",
       "      <th>9</th>\n",
       "      <td>0.0</td>\n",
       "    </tr>\n",
       "  </tbody>\n",
       "</table>\n",
       "</div>"
      ]
     },
     "execution_count": 12,
     "metadata": {
     },
     "output_type": "execute_result"
    }
   ],
   "source": [
    "# Прочитаем данные с целевой переменной TARGET\n",
    "train = pd.read_csv('BigDataSchool_train_set.csv', header=0, index_col=0)\n",
    "train.head()"
   ]
  },
  {
   "cell_type": "code",
   "execution_count": 13,
   "metadata": {
    "collapsed": false
   },
   "outputs": [
    {
     "data": {
      "text/plain": [
       "(12890, 1)"
      ]
     },
     "execution_count": 13,
     "metadata": {
     },
     "output_type": "execute_result"
    }
   ],
   "source": [
    "# Посмотрим, сколько у нас тренировочных объектов\n",
    "train.shape"
   ]
  },
  {
   "cell_type": "code",
   "execution_count": 14,
   "metadata": {
    "collapsed": false
   },
   "outputs": [
   ],
   "source": [
    "# Создаем тренировочную выборку \"приклеиванием\" целевой переменной к большой таблице. Заметим, что в большой таблице new_df строк больше, чем в train, однако операция join с опцией inner оставит только те из них, которые есть в обеих таблицах.\n",
    "train_df = new_df.join(train, how='inner')"
   ]
  },
  {
   "cell_type": "code",
   "execution_count": 15,
   "metadata": {
    "collapsed": false
   },
   "outputs": [
    {
     "data": {
      "text/html": [
       "<div>\n",
       "<style scoped>\n",
       "    .dataframe tbody tr th:only-of-type {\n",
       "        vertical-align: middle;\n",
       "    }\n",
       "\n",
       "    .dataframe tbody tr th {\n",
       "        vertical-align: top;\n",
       "    }\n",
       "\n",
       "    .dataframe thead th {\n",
       "        text-align: right;\n",
       "    }\n",
       "</style>\n",
       "<table border=\"1\" class=\"dataframe\">\n",
       "  <thead>\n",
       "    <tr style=\"text-align: right;\">\n",
       "      <th></th>\n",
       "      <th>F1_1</th>\n",
       "      <th>F2_1</th>\n",
       "      <th>F3_1</th>\n",
       "      <th>F4_1</th>\n",
       "      <th>F5_1</th>\n",
       "      <th>F6_1</th>\n",
       "      <th>F7_1</th>\n",
       "      <th>F8_1</th>\n",
       "      <th>F9_1</th>\n",
       "      <th>F10_1</th>\n",
       "      <th>...</th>\n",
       "      <th>F39_6</th>\n",
       "      <th>F40_6</th>\n",
       "      <th>F41_6</th>\n",
       "      <th>F42_6</th>\n",
       "      <th>F43_6</th>\n",
       "      <th>F44_6</th>\n",
       "      <th>F45_6</th>\n",
       "      <th>F46_6</th>\n",
       "      <th>F47_6</th>\n",
       "      <th>TARGET</th>\n",
       "    </tr>\n",
       "  </thead>\n",
       "  <tbody>\n",
       "    <tr>\n",
       "      <th>2</th>\n",
       "      <td>4.0</td>\n",
       "      <td>133.0</td>\n",
       "      <td>28.0</td>\n",
       "      <td>NaN</td>\n",
       "      <td>0.0</td>\n",
       "      <td>NaN</td>\n",
       "      <td>518.98</td>\n",
       "      <td>2.60</td>\n",
       "      <td>151.33</td>\n",
       "      <td>142.32</td>\n",
       "      <td>...</td>\n",
       "      <td>65.0</td>\n",
       "      <td>2.0</td>\n",
       "      <td>5.0</td>\n",
       "      <td>5.0</td>\n",
       "      <td>2.0</td>\n",
       "      <td>0.0</td>\n",
       "      <td>0.0</td>\n",
       "      <td>2.0</td>\n",
       "      <td>682.0</td>\n",
       "      <td>0.0</td>\n",
       "    </tr>\n",
       "    <tr>\n",
       "      <th>4</th>\n",
       "      <td>5.0</td>\n",
       "      <td>139.0</td>\n",
       "      <td>29.0</td>\n",
       "      <td>7.0</td>\n",
       "      <td>0.0</td>\n",
       "      <td>682.90</td>\n",
       "      <td>676.53</td>\n",
       "      <td>3.53</td>\n",
       "      <td>591.27</td>\n",
       "      <td>585.22</td>\n",
       "      <td>...</td>\n",
       "      <td>115.0</td>\n",
       "      <td>0.0</td>\n",
       "      <td>0.0</td>\n",
       "      <td>2.0</td>\n",
       "      <td>0.0</td>\n",
       "      <td>2.0</td>\n",
       "      <td>0.0</td>\n",
       "      <td>1.0</td>\n",
       "      <td>4167.0</td>\n",
       "      <td>0.0</td>\n",
       "    </tr>\n",
       "    <tr>\n",
       "      <th>5</th>\n",
       "      <td>20.0</td>\n",
       "      <td>19.0</td>\n",
       "      <td>22.0</td>\n",
       "      <td>0.0</td>\n",
       "      <td>1.0</td>\n",
       "      <td>137.98</td>\n",
       "      <td>55.78</td>\n",
       "      <td>36.03</td>\n",
       "      <td>115.33</td>\n",
       "      <td>28.90</td>\n",
       "      <td>...</td>\n",
       "      <td>137.0</td>\n",
       "      <td>1.0</td>\n",
       "      <td>1.0</td>\n",
       "      <td>1.0</td>\n",
       "      <td>2.0</td>\n",
       "      <td>NaN</td>\n",
       "      <td>NaN</td>\n",
       "      <td>1.0</td>\n",
       "      <td>193.0</td>\n",
       "      <td>0.0</td>\n",
       "    </tr>\n",
       "    <tr>\n",
       "      <th>8</th>\n",
       "      <td>21.0</td>\n",
       "      <td>134.0</td>\n",
       "      <td>29.0</td>\n",
       "      <td>21.0</td>\n",
       "      <td>1.0</td>\n",
       "      <td>459.90</td>\n",
       "      <td>408.58</td>\n",
       "      <td>11.92</td>\n",
       "      <td>485.28</td>\n",
       "      <td>413.35</td>\n",
       "      <td>...</td>\n",
       "      <td>NaN</td>\n",
       "      <td>NaN</td>\n",
       "      <td>NaN</td>\n",
       "      <td>NaN</td>\n",
       "      <td>NaN</td>\n",
       "      <td>NaN</td>\n",
       "      <td>NaN</td>\n",
       "      <td>NaN</td>\n",
       "      <td>NaN</td>\n",
       "      <td>0.0</td>\n",
       "    </tr>\n",
       "    <tr>\n",
       "      <th>9</th>\n",
       "      <td>20.0</td>\n",
       "      <td>9.0</td>\n",
       "      <td>28.0</td>\n",
       "      <td>28.0</td>\n",
       "      <td>0.0</td>\n",
       "      <td>813.60</td>\n",
       "      <td>628.88</td>\n",
       "      <td>181.68</td>\n",
       "      <td>391.65</td>\n",
       "      <td>321.33</td>\n",
       "      <td>...</td>\n",
       "      <td>142.0</td>\n",
       "      <td>0.0</td>\n",
       "      <td>3.0</td>\n",
       "      <td>3.0</td>\n",
       "      <td>0.0</td>\n",
       "      <td>1.0</td>\n",
       "      <td>1.0</td>\n",
       "      <td>1.0</td>\n",
       "      <td>38303.0</td>\n",
       "      <td>0.0</td>\n",
       "    </tr>\n",
       "  </tbody>\n",
       "</table>\n",
       "<p>5 rows × 271 columns</p>\n",
       "</div>"
      ]
     },
     "execution_count": 15,
     "metadata": {
     },
     "output_type": "execute_result"
    }
   ],
   "source": [
    "train_df.head()"
   ]
  },
  {
   "cell_type": "code",
   "execution_count": 16,
   "metadata": {
    "collapsed": false
   },
   "outputs": [
    {
     "data": {
      "text/plain": [
       "(12890, 271)"
      ]
     },
     "execution_count": 16,
     "metadata": {
     },
     "output_type": "execute_result"
    }
   ],
   "source": [
    "train_df.shape"
   ]
  },
  {
   "cell_type": "code",
   "execution_count": 17,
   "metadata": {
    "collapsed": false
   },
   "outputs": [
    {
     "data": {
      "text/plain": [
       "0.0    11848\n",
       "1.0     1042\n",
       "Name: TARGET, dtype: int64"
      ]
     },
     "execution_count": 17,
     "metadata": {
     },
     "output_type": "execute_result"
    }
   ],
   "source": [
    "# Посчитаем, сколько абонентов каждого класса у нас есть. Вывод: баланс классов нарушен! Абонентов, которые поменяли тариф, гораздо меньше. Это означает, что нужно очень ответственно подходить к оценке качества алгоритма. Метрика accuracy (доля правильных ответов) не подходит.\n",
    "train_df['TARGET'].value_counts()"
   ]
  },
  {
   "cell_type": "code",
   "execution_count": 18,
   "metadata": {
    "collapsed": false
   },
   "outputs": [
    {
     "data": {
      "text/plain": [
       "F1_1       647\n",
       "F2_1       670\n",
       "F3_1       647\n",
       "F4_1       648\n",
       "F5_1       654\n",
       "F6_1       629\n",
       "F7_1       631\n",
       "F8_1       634\n",
       "F9_1       609\n",
       "F10_1      646\n",
       "F11_1      630\n",
       "F12_1      644\n",
       "F13_1      656\n",
       "F14_1      618\n",
       "F15_1      649\n",
       "F16_1      696\n",
       "F17_1      648\n",
       "F18_1      588\n",
       "F19_1      612\n",
       "F20_1      685\n",
       "F21_1      600\n",
       "F22_1      667\n",
       "F24_1      642\n",
       "F26_1      678\n",
       "F27_1      612\n",
       "F28_1      672\n",
       "F29_1      629\n",
       "F30_1      648\n",
       "F31_1      618\n",
       "F32_1      613\n",
       "          ... \n",
       "F17_6      664\n",
       "F18_6      578\n",
       "F19_6      636\n",
       "F20_6      675\n",
       "F21_6      622\n",
       "F22_6      606\n",
       "F24_6      665\n",
       "F26_6      650\n",
       "F27_6      642\n",
       "F28_6      661\n",
       "F29_6      629\n",
       "F30_6      643\n",
       "F31_6      658\n",
       "F32_6      614\n",
       "F33_6     8733\n",
       "F34_6     8745\n",
       "F35_6     4650\n",
       "F36_6     4712\n",
       "F37_6     1867\n",
       "F38_6     1836\n",
       "F39_6     4201\n",
       "F40_6     4167\n",
       "F41_6     4179\n",
       "F42_6     4192\n",
       "F43_6     4600\n",
       "F44_6     4625\n",
       "F45_6     4594\n",
       "F46_6     4320\n",
       "F47_6     4302\n",
       "TARGET       0\n",
       "Length: 271, dtype: int64"
      ]
     },
     "execution_count": 18,
     "metadata": {
     },
     "output_type": "execute_result"
    }
   ],
   "source": [
    "# Посмотрим, сколько NaN-значений в каждом столбце. В некоторых столбцах их очень много. Возможно, эти столбцы не стоит использовать для обучения модели.\n",
    "train_df.isnull().sum()"
   ]
  },
  {
   "cell_type": "code",
   "execution_count": 19,
   "metadata": {
    "collapsed": false
   },
   "outputs": [
    {
     "name": "stderr",
     "output_type": "stream",
     "text": [
      "/usr/local/lib/python3.6/dist-packages/sklearn/utils/deprecation.py:58: DeprecationWarning: Class Imputer is deprecated; Imputer was deprecated in version 0.20 and will be removed in 0.22. Import impute.SimpleImputer from sklearn instead.\n",
      "  warnings.warn(msg, category=DeprecationWarning)\n"
     ]
    }
   ],
   "source": [
    "# Заполняем пропущенные значения\n",
    "from sklearn.preprocessing import Imputer\n",
    "imp = Imputer(missing_values='NaN', strategy='most_frequent', axis=0)\n",
    "imp.fit(train_df)\n",
    "train_df = imp.transform(train_df)"
   ]
  },
  {
   "cell_type": "markdown",
   "metadata": {
    "collapsed": false
   },
   "source": [
    "# Внимание!\n",
    "\n",
    "Вместо предыдущего класса рекомендуется использовать https://scikit-learn.org/stable/modules/generated/sklearn.impute.SimpleImputer.html\n",
    "\n",
    "И стратегию, наверное, стоит поменять на 'median'. Хотя, вообще говоря, стоит для начала посмотреть на характер распределений каждого столбца."
   ]
  },
  {
   "cell_type": "code",
   "execution_count": 20,
   "metadata": {
    "collapsed": false
   },
   "outputs": [
   ],
   "source": [
    "# X -- вся матрица, кроме последнего столбца\n",
    "X = train_df[:, :-1]\n",
    "# y -- последний столбец\n",
    "y = train_df[:, -1]"
   ]
  },
  {
   "cell_type": "code",
   "execution_count": 21,
   "metadata": {
    "collapsed": false
   },
   "outputs": [
   ],
   "source": [
    "# Важный этап предобработки: масштабирование. Обычно алгоритмы \"не любят\" разнородные данные.\n",
    "from sklearn.preprocessing import scale\n",
    "X = scale(X)"
   ]
  },
  {
   "cell_type": "code",
   "execution_count": 22,
   "metadata": {
    "collapsed": false
   },
   "outputs": [
   ],
   "source": [
    "# Делим выборку на обучение и тест\n",
    "from sklearn.model_selection import train_test_split\n",
    "X_train, X_test, y_train, y_test = train_test_split(X, y, test_size=0.25, random_state=1)"
   ]
  },
  {
   "cell_type": "markdown",
   "metadata": {
    "collapsed": false
   },
   "source": [
    "# Построение моделей"
   ]
  },
  {
   "cell_type": "code",
   "execution_count": 23,
   "metadata": {
    "collapsed": false
   },
   "outputs": [
   ],
   "source": [
    "# Строим логистическую регрессию -- бинарный линейный классификатор, который умеет предсказывать вероятности\n",
    "from sklearn.linear_model import LogisticRegression"
   ]
  },
  {
   "cell_type": "code",
   "execution_count": 24,
   "metadata": {
    "collapsed": false
   },
   "outputs": [
   ],
   "source": [
    "# Обратите внимание: ниже идёт более-менее стандартный алгоритм обучения моделей \"из коробки\":\n",
    "# 1. Создаём экземпляр модели, задаём некоторые параметры.\n",
    "# 2. Вызываем метод fit для этого экземпляра.\n",
    "# 3. Вызываем метод predict (в данном случае predict_proba для предсказания вероятностей) для тестовых данных.\n",
    "logreg = LogisticRegression(random_state=1, solver='sag', max_iter=10000)\n",
    "logreg.fit(X_train, y_train)\n",
    "y_pred = logreg.predict_proba(X_test)"
   ]
  },
  {
   "cell_type": "code",
   "execution_count": 25,
   "metadata": {
    "collapsed": false
   },
   "outputs": [
    {
     "data": {
      "text/plain": [
       "array([[0.97737592, 0.02262408],\n",
       "       [0.89967774, 0.10032226],\n",
       "       [0.78765288, 0.21234712],\n",
       "       ...,\n",
       "       [0.96680253, 0.03319747],\n",
       "       [0.96090205, 0.03909795],\n",
       "       [0.85984488, 0.14015512]])"
      ]
     },
     "execution_count": 25,
     "metadata": {
     },
     "output_type": "execute_result"
    }
   ],
   "source": [
    "# Первый столбец -- вероятность класса 0, второй -- вероятность класса 1\n",
    "y_pred"
   ]
  },
  {
   "cell_type": "code",
   "execution_count": 26,
   "metadata": {
    "collapsed": false
   },
   "outputs": [
    {
     "data": {
      "text/plain": [
       "array([[0.37603717, 0.62396283],\n",
       "       [0.38495561, 0.61504439],\n",
       "       [0.21708378, 0.78291622],\n",
       "       [0.30653185, 0.69346815],\n",
       "       [0.40447173, 0.59552827],\n",
       "       [0.46136336, 0.53863664],\n",
       "       [0.44535888, 0.55464112],\n",
       "       [0.05151998, 0.94848002],\n",
       "       [0.28964761, 0.71035239],\n",
       "       [0.46113047, 0.53886953],\n",
       "       [0.16047128, 0.83952872],\n",
       "       [0.48056467, 0.51943533],\n",
       "       [0.47681015, 0.52318985],\n",
       "       [0.46976842, 0.53023158],\n",
       "       [0.4712848 , 0.5287152 ],\n",
       "       [0.47315731, 0.52684269],\n",
       "       [0.34260087, 0.65739913],\n",
       "       [0.32318364, 0.67681636],\n",
       "       [0.48142203, 0.51857797],\n",
       "       [0.19772518, 0.80227482],\n",
       "       [0.47052999, 0.52947001],\n",
       "       [0.22303032, 0.77696968],\n",
       "       [0.43339284, 0.56660716],\n",
       "       [0.494077  , 0.505923  ],\n",
       "       [0.11884203, 0.88115797],\n",
       "       [0.18027174, 0.81972826],\n",
       "       [0.30486695, 0.69513305],\n",
       "       [0.46316714, 0.53683286],\n",
       "       [0.39691385, 0.60308615],\n",
       "       [0.44943842, 0.55056158],\n",
       "       [0.24431861, 0.75568139],\n",
       "       [0.48357931, 0.51642069],\n",
       "       [0.088572  , 0.911428  ],\n",
       "       [0.1159355 , 0.8840645 ],\n",
       "       [0.38942259, 0.61057741],\n",
       "       [0.43129085, 0.56870915],\n",
       "       [0.48563685, 0.51436315]])"
      ]
     },
     "execution_count": 26,
     "metadata": {
     },
     "output_type": "execute_result"
    }
   ],
   "source": [
    "# Есть ли объекты с более высокой вероятностью класса 1?\n",
    "y_pred[y_pred[:, 0] < y_pred[:, 1]]"
   ]
  },
  {
   "cell_type": "code",
   "execution_count": 27,
   "metadata": {
    "collapsed": false
   },
   "outputs": [
   ],
   "source": [
    "y_score = y_pred[:, 1]"
   ]
  },
  {
   "cell_type": "code",
   "execution_count": 28,
   "metadata": {
    "collapsed": false
   },
   "outputs": [
    {
     "name": "stdout",
     "output_type": "stream",
     "text": [
      "0.7144393154995646\n"
     ]
    }
   ],
   "source": [
    "# Вычисляем метрику ROC AUC\n",
    "from sklearn.metrics import roc_auc_score\n",
    "print(roc_auc_score(y_test, y_score))"
   ]
  },
  {
   "cell_type": "code",
   "execution_count": 29,
   "metadata": {
    "collapsed": false
   },
   "outputs": [
    {
     "name": "stdout",
     "output_type": "stream",
     "text": [
      "Accuracy: 0.9134346881787155\n",
      "Precision: 0.13513513513513514\n",
      "Recall: 0.01984126984126984\n"
     ]
    }
   ],
   "source": [
    "# Посмотрим и на остальные метрики\n",
    "y_pred_log = logreg.predict(X_test)\n",
    "from sklearn import metrics\n",
    "print(\"Accuracy:\", metrics.accuracy_score(y_test, y_pred_log))\n",
    "print(\"Precision:\", metrics.precision_score(y_test, y_pred_log))\n",
    "print(\"Recall:\", metrics.recall_score(y_test, y_pred_log))"
   ]
  },
  {
   "cell_type": "code",
   "execution_count": 93,
   "metadata": {
    "collapsed": false
   },
   "outputs": [
    {
     "name": "stderr",
     "output_type": "stream",
     "text": [
      "/usr/local/lib/python3.6/dist-packages/sklearn/svm/base.py:196: FutureWarning: The default value of gamma will change from 'auto' to 'scale' in version 0.22 to account better for unscaled features. Set gamma explicitly to 'auto' or 'scale' to avoid this warning.\n",
      "  \"avoid this warning.\", FutureWarning)\n"
     ]
    }
   ],
   "source": [
    "# Другой классификатор -- машина опорных векторов\n",
    "from sklearn.svm import SVC\n",
    "y_pred_svc = SVC().fit(X_train, y_train).predict(X_test)"
   ]
  },
  {
   "cell_type": "code",
   "execution_count": 94,
   "metadata": {
    "collapsed": false
   },
   "outputs": [
    {
     "name": "stdout",
     "output_type": "stream",
     "text": [
      "Accuracy: 0.921811976419485\n",
      "Precision: 0.0\n",
      "Recall: 0.0\n"
     ]
    },
    {
     "name": "stderr",
     "output_type": "stream",
     "text": [
      "/usr/local/lib/python3.6/dist-packages/sklearn/metrics/classification.py:1143: UndefinedMetricWarning: Precision is ill-defined and being set to 0.0 due to no predicted samples.\n",
      "  'precision', 'predicted', average, warn_for)\n"
     ]
    }
   ],
   "source": [
    "from sklearn import metrics\n",
    "print(\"Accuracy:\", metrics.accuracy_score(y_test, y_pred_svc))\n",
    "print(\"Precision:\", metrics.precision_score(y_test, y_pred_svc))\n",
    "print(\"Recall:\", metrics.recall_score(y_test, y_pred_svc))"
   ]
  },
  {
   "cell_type": "code",
   "execution_count": 48,
   "metadata": {
    "collapsed": false
   },
   "outputs": [
    {
     "data": {
      "text/plain": [
       "0.0"
      ]
     },
     "execution_count": 48,
     "metadata": {
     },
     "output_type": "execute_result"
    }
   ],
   "source": [
    "sum(y_pred_svc)"
   ]
  },
  {
   "cell_type": "code",
   "execution_count": 95,
   "metadata": {
    "collapsed": false
   },
   "outputs": [
    {
     "name": "stderr",
     "output_type": "stream",
     "text": [
      "/usr/local/lib/python3.6/dist-packages/sklearn/ensemble/forest.py:248: FutureWarning: The default value of n_estimators will change from 10 in version 0.20 to 100 in 0.22.\n",
      "  \"10 in version 0.20 to 100 in 0.22.\", FutureWarning)\n"
     ]
    },
    {
     "name": "stdout",
     "output_type": "stream",
     "text": [
      "[[1.  0. ]\n",
      " [1.  0. ]\n",
      " [0.7 0.3]\n",
      " ...\n",
      " [0.9 0.1]\n",
      " [0.8 0.2]\n",
      " [0.8 0.2]]\n"
     ]
    }
   ],
   "source": [
    "# Третий классификатор -- случайный лес\n",
    "from sklearn.ensemble import RandomForestClassifier\n",
    "y_pred_rf = RandomForestClassifier().fit(X_train, y_train).predict_proba(X_test)\n",
    "print(y_pred_rf)"
   ]
  },
  {
   "cell_type": "code",
   "execution_count": 97,
   "metadata": {
    "collapsed": false
   },
   "outputs": [
    {
     "data": {
      "text/plain": [
       "array([[0.4, 0.6],\n",
       "       [0.3, 0.7],\n",
       "       [0.4, 0.6],\n",
       "       [0.3, 0.7],\n",
       "       [0.3, 0.7],\n",
       "       [0.4, 0.6],\n",
       "       [0.4, 0.6],\n",
       "       [0.4, 0.6],\n",
       "       [0.4, 0.6],\n",
       "       [0.4, 0.6]])"
      ]
     },
     "execution_count": 97,
     "metadata": {
     },
     "output_type": "execute_result"
    }
   ],
   "source": [
    "y_pred_rf[y_pred_rf[:, 0] < y_pred_rf[:, 1]]"
   ]
  },
  {
   "cell_type": "code",
   "execution_count": 99,
   "metadata": {
    "collapsed": false
   },
   "outputs": [
    {
     "name": "stdout",
     "output_type": "stream",
     "text": [
      "0.6398031500269803\n"
     ]
    }
   ],
   "source": [
    "y_score_rf = y_pred_rf[:, 1]\n",
    "print(roc_auc_score(y_test, y_score_rf))"
   ]
  },
  {
   "cell_type": "code",
   "execution_count": 39,
   "metadata": {
    "collapsed": false
   },
   "outputs": [
   ],
   "source": [
    "# Попробуем сжать пространство признаков методом главных компонент\n",
    "from sklearn.decomposition import PCA\n",
    "pca = PCA(n_components=0.8).fit(X_train)"
   ]
  },
  {
   "cell_type": "code",
   "execution_count": 40,
   "metadata": {
    "collapsed": false
   },
   "outputs": [
    {
     "name": "stdout",
     "output_type": "stream",
     "text": [
      "[0.18267704 0.07443744 0.05244951 0.0367505  0.03555642 0.02594271\n",
      " 0.0227435  0.02248856 0.02136336 0.0204581  0.01839742 0.01710335\n",
      " 0.0165365  0.01594484 0.0147554  0.0121169  0.01166351 0.01129257\n",
      " 0.01061598 0.01020022 0.00917092 0.00879353 0.00798921 0.00784783\n",
      " 0.0077003  0.00653668 0.0063995  0.00618549 0.00603049 0.00582949\n",
      " 0.00562744 0.00529707 0.00501667 0.00480973 0.00459222 0.00451328\n",
      " 0.00432981 0.00418621 0.00412424 0.00402179 0.0039531  0.00389522\n",
      " 0.00383153 0.00375049 0.00372487 0.00362846 0.00350024 0.00338657\n",
      " 0.00331138 0.00327223 0.00316267 0.00312447 0.00312067 0.00301178]\n"
     ]
    }
   ],
   "source": [
    "# Как видим, осталось чуть более 50 признаков против 270 исходных\n",
    "print(pca.explained_variance_ratio_)"
   ]
  },
  {
   "cell_type": "code",
   "execution_count": 41,
   "metadata": {
    "collapsed": false
   },
   "outputs": [
   ],
   "source": [
    "import matplotlib.pyplot as plt\n",
    "%matplotlib inline"
   ]
  },
  {
   "cell_type": "code",
   "execution_count": 42,
   "metadata": {
    "collapsed": false
   },
   "outputs": [
    {
     "data": {
      "text/plain": [
       "[<matplotlib.lines.Line2D at 0x7f2fdad8fe80>]"
      ]
     },
     "execution_count": 42,
     "metadata": {
     },
     "output_type": "execute_result"
    },
    {
     "data": {
      "image/png": "[encoded data removed]"
     },
     "execution_count": 42,
     "metadata": {
      "image/png": {
       "height": 250,
       "width": 380
      }
     },
     "output_type": "execute_result"
    }
   ],
   "source": [
    "plt.plot(pca.explained_variance_ratio_[:10])"
   ]
  },
  {
   "cell_type": "code",
   "execution_count": 43,
   "metadata": {
    "collapsed": false
   },
   "outputs": [
    {
     "data": {
      "text/plain": [
       "array([0.18267704, 0.25711449, 0.30956399, 0.34631449, 0.38187092,\n",
       "       0.40781363, 0.43055712, 0.45304568, 0.47440904, 0.49486713,\n",
       "       0.51326456, 0.53036791, 0.54690441, 0.56284925, 0.57760464,\n",
       "       0.58972155, 0.60138506, 0.61267763, 0.62329361, 0.63349383,\n",
       "       0.64266474, 0.65145827, 0.65944748, 0.66729532, 0.67499562,\n",
       "       0.6815323 , 0.6879318 , 0.6941173 , 0.70014779, 0.70597728,\n",
       "       0.71160472, 0.71690179, 0.72191846, 0.72672819, 0.73132041,\n",
       "       0.73583369, 0.7401635 , 0.74434971, 0.74847395, 0.75249575,\n",
       "       0.75644885, 0.76034406, 0.76417559, 0.76792608, 0.77165095,\n",
       "       0.77527941, 0.77877964, 0.78216622, 0.78547759, 0.78874982,\n",
       "       0.79191248, 0.79503696, 0.79815763, 0.80116941])"
      ]
     },
     "execution_count": 43,
     "metadata": {
     },
     "output_type": "execute_result"
    }
   ],
   "source": [
    "pca.explained_variance_ratio_.cumsum()"
   ]
  },
  {
   "cell_type": "code",
   "execution_count": 46,
   "metadata": {
    "collapsed": false
   },
   "outputs": [
   ],
   "source": [
    "# Преобразуем исходные данные (и тренировку, и тест), используя главные компоненты\n",
    "pca = PCA(n_components=0.8).fit(X_train)\n",
    "X_train_pca = pca.transform(X_train)\n",
    "X_test_pca = pca.transform(X_test)"
   ]
  },
  {
   "cell_type": "code",
   "execution_count": 48,
   "metadata": {
    "collapsed": false
   },
   "outputs": [
   ],
   "source": [
    "y_pred_logreg = LogisticRegression(random_state=1, solver='sag', max_iter=1000).fit(X_train_pca, y_train).predict_proba(X_test_pca)"
   ]
  },
  {
   "cell_type": "code",
   "execution_count": 49,
   "metadata": {
    "collapsed": false
   },
   "outputs": [
    {
     "name": "stdout",
     "output_type": "stream",
     "text": [
      "0.7505155658134453\n"
     ]
    }
   ],
   "source": [
    "# Качество улучшилось, но не сильно\n",
    "y_score_logreg = y_pred_logreg[:, 1]\n",
    "print(roc_auc_score(y_test, y_score_logreg))"
   ]
  },
  {
   "cell_type": "code",
   "execution_count": 50,
   "metadata": {
    "collapsed": false
   },
   "outputs": [
    {
     "name": "stderr",
     "output_type": "stream",
     "text": [
      "/usr/local/lib/python3.6/dist-packages/sklearn/model_selection/_split.py:1943: FutureWarning: You should specify a value for 'cv' instead of relying on the default value. The default value will change from 3 to 5 in version 0.22.\n",
      "  warnings.warn(CV_WARNING, FutureWarning)\n"
     ]
    },
    {
     "data": {
      "text/plain": [
       "GridSearchCV(cv='warn', error_score='raise-deprecating',\n",
       "       estimator=LogisticRegression(C=1.0, class_weight=None, dual=False, fit_intercept=True,\n",
       "          intercept_scaling=1, max_iter=1000, multi_class='warn',\n",
       "          n_jobs=None, penalty='l2', random_state=1, solver='sag',\n",
       "          tol=0.0001, verbose=0, warm_start=False),\n",
       "       fit_params=None, iid='warn', n_jobs=None,\n",
       "       param_grid={'warm_start': (True, False), 'C': [0.001, 0.01, 0.1, 1, 10, 100, 1000]},\n",
       "       pre_dispatch='2*n_jobs', refit=True, return_train_score='warn',\n",
       "       scoring=None, verbose=0)"
      ]
     },
     "execution_count": 50,
     "metadata": {
     },
     "output_type": "execute_result"
    }
   ],
   "source": [
    "# Попробуем поискать оптимальное сочетание параметров с помощью GridSearchCV\n",
    "# Что такое warm_start и параметр C, можно почитать в документации (расскажу позже)\n",
    "from sklearn.model_selection import GridSearchCV\n",
    "parameters = {'warm_start':(True, False), 'C':[0.001, 0.01, 0.1, 1, 10, 100, 1000]}\n",
    "lr = LogisticRegression(random_state=1, solver='sag', max_iter=1000)\n",
    "clf = GridSearchCV(lr, parameters)\n",
    "clf.fit(X_train_pca, y_train)"
   ]
  },
  {
   "cell_type": "code",
   "execution_count": 55,
   "metadata": {
    "collapsed": false
   },
   "outputs": [
    {
     "data": {
      "text/plain": [
       "{'C': 0.001, 'warm_start': True}"
      ]
     },
     "execution_count": 55,
     "metadata": {
     },
     "output_type": "execute_result"
    }
   ],
   "source": [
    "# Вот такие параметры получились\n",
    "clf.best_params_"
   ]
  },
  {
   "cell_type": "code",
   "execution_count": 56,
   "metadata": {
    "collapsed": false
   },
   "outputs": [
    {
     "name": "stdout",
     "output_type": "stream",
     "text": [
      "0.7525457731617274\n"
     ]
    }
   ],
   "source": [
    "# Ещё немного увеличили ROC AUC. Всё равно есть к чему стремиться\n",
    "y_pred_logreg = LogisticRegression(random_state=1, solver='sag', max_iter=1000, C=0.001, warm_start=True).fit(X_train_pca, y_train).predict_proba(X_test_pca)\n",
    "\n",
    "y_score_logreg = y_pred_logreg[:, 1]\n",
    "print(roc_auc_score(y_test, y_score_logreg))"
   ]
  },
  {
   "cell_type": "code",
   "execution_count": 57,
   "metadata": {
    "collapsed": false
   },
   "outputs": [
    {
     "name": "stdout",
     "output_type": "stream",
     "text": [
      "Accuracy: 0.9211914365497983\n",
      "Precision: 0.25\n",
      "Recall: 0.003968253968253968\n"
     ]
    }
   ],
   "source": [
    "y_pred_log = LogisticRegression(random_state=1, solver='sag', max_iter=1000, C=0.001, warm_start=True).fit(X_train_pca, y_train).predict(X_test_pca)\n",
    "from sklearn import metrics\n",
    "print(\"Accuracy:\", metrics.accuracy_score(y_test, y_pred_log))\n",
    "print(\"Precision:\", metrics.precision_score(y_test, y_pred_log))\n",
    "print(\"Recall:\", metrics.recall_score(y_test, y_pred_log))"
   ]
  },
  {
   "cell_type": "code",
   "execution_count": 58,
   "metadata": {
    "collapsed": false
   },
   "outputs": [
    {
     "data": {
      "text/plain": [
       "252.0"
      ]
     },
     "execution_count": 58,
     "metadata": {
     },
     "output_type": "execute_result"
    }
   ],
   "source": [
    "sum(y_test)"
   ]
  },
  {
   "cell_type": "code",
   "execution_count": 59,
   "metadata": {
    "collapsed": false
   },
   "outputs": [
    {
     "data": {
      "text/plain": [
       "3223"
      ]
     },
     "execution_count": 59,
     "metadata": {
     },
     "output_type": "execute_result"
    }
   ],
   "source": [
    "len(y_test)"
   ]
  },
  {
   "cell_type": "code",
   "execution_count": 61,
   "metadata": {
    "collapsed": false
   },
   "outputs": [
    {
     "data": {
      "text/plain": [
       "(2968, 3, 251, 1)"
      ]
     },
     "execution_count": 61,
     "metadata": {
     },
     "output_type": "execute_result"
    }
   ],
   "source": [
    "# Строим матрицу значений TP, FP, FN, TN\n",
    "from sklearn.metrics import confusion_matrix\n",
    "tn, fp, fn, tp = confusion_matrix(y_test, y_pred_log).ravel()\n",
    "(tn, fp, fn, tp)"
   ]
  },
  {
   "cell_type": "code",
   "execution_count": 64,
   "metadata": {
    "collapsed": false
   },
   "outputs": [
    {
     "data": {
      "text/plain": [
       "array([[   1,    3],\n",
       "       [ 251, 2968]])"
      ]
     },
     "execution_count": 64,
     "metadata": {
     },
     "output_type": "execute_result"
    }
   ],
   "source": [
    "# Увы, из 252 абонентов, которые сменили тариф, наша модель нашла только одного.\n",
    "# При этом ложных срабатываний не так много -- всего 3.\n",
    "confusion_matrix(y_test, y_pred_log, labels=[1, 0]).T"
   ]
  },
  {
   "cell_type": "code",
   "execution_count": 0,
   "metadata": {
    "collapsed": false
   },
   "outputs": [
   ],
   "source": [
   ]
  }
 ],
 "metadata": {
  "kernelspec": {
   "display_name": "Python 3 (Ubuntu Linux)",
   "language": "python",
   "name": "python3"
  },
  "language_info": {
   "codemirror_mode": {
    "name": "ipython",
    "version": 3
   },
   "file_extension": ".py",
   "mimetype": "text/x-python",
   "name": "python",
   "nbconvert_exporter": "python",
   "pygments_lexer": "ipython3",
   "version": "3.6.6"
  }
 },
 "nbformat": 4,
 "nbformat_minor": 0
}